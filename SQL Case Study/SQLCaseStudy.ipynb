{
 "cells": [
  {
   "cell_type": "code",
   "execution_count": 11,
   "id": "e2ab7732",
   "metadata": {},
   "outputs": [],
   "source": [
    "import sqlite3\n",
    "from sqlite3 import Error"
   ]
  },
  {
   "cell_type": "code",
   "execution_count": 12,
   "id": "1475d961",
   "metadata": {},
   "outputs": [],
   "source": [
    "def create_connection(db_file):\n",
    "    conn = None\n",
    "    try:\n",
    "        conn = sqlite3.connect(db_file)\n",
    "        print(sqlite3.version)\n",
    "    except Error as e:\n",
    "        print(e)\n",
    "    return conn"
   ]
  },
  {
   "cell_type": "code",
   "execution_count": 23,
   "id": "031450f7",
   "metadata": {},
   "outputs": [],
   "source": [
    "def select_all_tasks(conn):\n",
    "    cur = conn.cursor()\n",
    "    query1 = \"\"\"\n",
    "    SELECT strftime('%m', b.starttime) as \"Month\", f.name, COUNT(b.memid) AS monthly_bookings\n",
    "    FROM Bookings b, Facilities f\n",
    "    WHERE b.facid = f.facid\n",
    "    AND b.memid != 0\n",
    "    GROUP BY month, f.name;\n",
    "        \"\"\"\n",
    "    #replace query1 to use notebook\n",
    "    cur.execute(query1)\n",
    "    rows = cur.fetchall()\n",
    "    for row in rows:\n",
    "        print(row)"
   ]
  },
  {
   "cell_type": "code",
   "execution_count": 24,
   "id": "4bbd3dd2",
   "metadata": {},
   "outputs": [
    {
     "name": "stdout",
     "output_type": "stream",
     "text": [
      "2.6.0\n",
      "2. Query all tasks\n",
      "('07', 'Badminton Court', 51)\n",
      "('07', 'Massage Room 1', 77)\n",
      "('07', 'Massage Room 2', 4)\n",
      "('07', 'Pool Table', 103)\n",
      "('07', 'Snooker Table', 68)\n",
      "('07', 'Squash Court', 23)\n",
      "('07', 'Table Tennis', 48)\n",
      "('07', 'Tennis Court 1', 65)\n",
      "('07', 'Tennis Court 2', 41)\n",
      "('08', 'Badminton Court', 132)\n",
      "('08', 'Massage Room 1', 153)\n",
      "('08', 'Massage Room 2', 9)\n",
      "('08', 'Pool Table', 272)\n",
      "('08', 'Snooker Table', 154)\n",
      "('08', 'Squash Court', 85)\n",
      "('08', 'Table Tennis', 143)\n",
      "('08', 'Tennis Court 1', 111)\n",
      "('08', 'Tennis Court 2', 109)\n",
      "('09', 'Badminton Court', 161)\n",
      "('09', 'Massage Room 1', 191)\n",
      "('09', 'Massage Room 2', 14)\n",
      "('09', 'Pool Table', 408)\n",
      "('09', 'Snooker Table', 199)\n",
      "('09', 'Squash Court', 87)\n",
      "('09', 'Table Tennis', 194)\n",
      "('09', 'Tennis Court 1', 132)\n",
      "('09', 'Tennis Court 2', 126)\n"
     ]
    }
   ],
   "source": [
    "def main():\n",
    "    database = \"sqlite_db_pythonsqlite.db\"\n",
    "    # creating db connection\n",
    "    conn = create_connection(database)\n",
    "    with conn:\n",
    "        print(\"2. Query all tasks\")\n",
    "        select_all_tasks(conn)\n",
    "\n",
    "if __name__ == '__main__':\n",
    "    main()"
   ]
  },
  {
   "cell_type": "code",
   "execution_count": null,
   "id": "c58ce01b",
   "metadata": {},
   "outputs": [],
   "source": []
  },
  {
   "cell_type": "code",
   "execution_count": null,
   "id": "830d29b2",
   "metadata": {},
   "outputs": [],
   "source": []
  }
 ],
 "metadata": {
  "kernelspec": {
   "display_name": "Python 3 (ipykernel)",
   "language": "python",
   "name": "python3"
  },
  "language_info": {
   "codemirror_mode": {
    "name": "ipython",
    "version": 3
   },
   "file_extension": ".py",
   "mimetype": "text/x-python",
   "name": "python",
   "nbconvert_exporter": "python",
   "pygments_lexer": "ipython3",
   "version": "3.9.7"
  }
 },
 "nbformat": 4,
 "nbformat_minor": 5
}
